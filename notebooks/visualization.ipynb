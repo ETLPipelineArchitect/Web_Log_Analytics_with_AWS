{
    "cells": [
        {
            "cell_type": "markdown",
            "metadata": {},
            "source": [
                "# Data Visualization\n",
                "Visualizing the results from the data analysis."
            ]
        },
        {
            "cell_type": "code",
            "execution_count": 1,
            "metadata": {},
            "outputs": [],
            "source": [
                "import pandas as pd\n",
                "import matplotlib.pyplot as plt\n",
                "import seaborn as sns\n",
                "\n",
                "# Load Data from S3 (Assuming data is downloaded locally)\n",
                "most_requested = pd.read_csv('data/most_requested.csv')\n",
                "\n",
                "# Plot Most Requested Endpoints\n",
                "plt.figure(figsize=(12, 6))\n",
                "sns.barplot(data=most_requested, x='request_count', y='endpoint')\n",
                "plt.title('Top 10 Most Requested Endpoints')\n",
                "plt.xlabel('Request Count')\n",
                "plt.ylabel('Endpoint')\n",
                "plt.show()\n"
            ]
        }
    ],
    "metadata": {
        "kernelspec": {
            "display_name": "Python 3",
            "language": "python",
            "name": "python3"
        },
        "language_info": {
            "name": "python",
            "version": "3.8.5",
            "mimetype": "text/x-python",
            "codemirror_mode": {
                "name": "ipython",
                "version": 3
            },
            "pygments_lexer": "ipython3",
            "nbconvert_exporter": "python",
            "file_extension": ".py"
        }
    },
    "nbformat": 4,
    "nbformat_minor": 5
}